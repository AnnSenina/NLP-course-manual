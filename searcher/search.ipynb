{
 "cells": [
  {
   "cell_type": "code",
   "execution_count": 51,
   "metadata": {},
   "outputs": [],
   "source": [
    "import os\n",
    "from string import punctuation\n",
    "from pymorphy2 import MorphAnalyzer\n",
    "from nltk.tokenize import word_tokenize\n",
    "from nltk.corpus import stopwords\n",
    "from whoosh.analysis import Filter, Tokenizer, Token, StopFilter\n",
    "\n",
    "from whoosh.lang.snowball.russian import RussianStemmer\n",
    "from whoosh.qparser import QueryParser, OrGroup\n",
    "from whoosh.index import create_in\n",
    "from whoosh.fields import *\n",
    "from whoosh import scoring"
   ]
  },
  {
   "cell_type": "code",
   "execution_count": 1,
   "metadata": {},
   "outputs": [],
   "source": [
    "os.mkdir('indexdir')"
   ]
  },
  {
   "cell_type": "code",
   "execution_count": 52,
   "metadata": {},
   "outputs": [],
   "source": [
    "class MyTokenizer(Tokenizer):\n",
    "    def __init__(self, *args, **kwargs):\n",
    "        super().__init__(*args, **kwargs)\n",
    "        self.tokenizer = word_tokenize\n",
    "\n",
    "    def __call__(self, value, positions = False, chars = False,\n",
    "                 keeporiginal = False, removestops = True,\n",
    "                 start_pos = 0, start_char = 0, mode='',\n",
    "                 **kwargs):\n",
    "        t = Token(positions, chars, removestops = removestops, mode=mode)\n",
    "        for pos, word in enumerate(self.tokenizer(value)):\n",
    "            word_len = len(word)\n",
    "            word = word.strip(punctuation)\n",
    "            if word.isalpha():\n",
    "                t.text = word\n",
    "                if keeporiginal:\n",
    "                    t.original = word\n",
    "                if positions:\n",
    "                    t.pos = start_pos + pos\n",
    "                if chars:\n",
    "                    t.startchar = start_char\n",
    "                    t.endchar = start_char + len(word)\n",
    "                yield t\n",
    "            start_char += word_len \n",
    "    \n",
    "\n",
    "class MyFilter(Filter):\n",
    "    def __init__(self, *args, **kwargs):\n",
    "        super().__init__(*args, **kwargs)\n",
    "        self.morph = MorphAnalyzer()\n",
    "        self.stopwords = stopwords.words('russian')\n",
    "\n",
    "    def __call__(self, tokens):\n",
    "        for token in tokens:\n",
    "            token.text = self.morph.parse(token.text.strip())[0].normal_form\n",
    "            if token.text not in self.stopwords:\n",
    "                yield token"
   ]
  },
  {
   "cell_type": "code",
   "execution_count": 53,
   "metadata": {},
   "outputs": [],
   "source": [
    "stemmer_ru = RussianStemmer()\n",
    "analyzer = MyTokenizer() | MyFilter()\n",
    "schema = Schema(\n",
    "    title=TEXT(stored=True, analyzer=analyzer),\n",
    "    path=ID(stored=True), \n",
    "    content=TEXT(analyzer=analyzer)\n",
    ")\n",
    "\n",
    "ix = create_in(\"indexdir\", schema)\n",
    "writer = ix.writer()"
   ]
  },
  {
   "cell_type": "code",
   "execution_count": 54,
   "metadata": {},
   "outputs": [],
   "source": [
    "directory = './texts'\n",
    "\n",
    "for address, dirs, files in os.walk(directory):\n",
    "    for name in files:\n",
    "        path = os.path.join(address, name)\n",
    "        with open(path, 'r', encoding='utf-8') as f:\n",
    "            text = f.read()\n",
    "            writer.add_document(\n",
    "                title = name, \n",
    "                path = path,\n",
    "                content = text\n",
    "            )\n",
    "writer.commit()"
   ]
  },
  {
   "cell_type": "code",
   "execution_count": 58,
   "metadata": {},
   "outputs": [],
   "source": [
    "writer = ix.writer()\n",
    "with open('./texts/fourth_doc.txt') as f:\n",
    "    text = f.read()\n",
    "    writer.add_document(\n",
    "        title = 'fourth_doc.txt', \n",
    "        path = './texts/fourth_doc.txt',\n",
    "        content = text\n",
    "    )\n",
    "writer.commit()"
   ]
  },
  {
   "cell_type": "code",
   "execution_count": 70,
   "metadata": {},
   "outputs": [
    {
     "name": "stdout",
     "output_type": "stream",
     "text": [
      "{('content', b'\\xd1\\x83\\xd0\\xbc\\xd0\\xb5\\xd0\\xbd\\xd0\\xb8\\xd0\\xb5'), ('content', b'\\xd0\\xb7\\xd0\\xbd\\xd0\\xb0\\xd0\\xbd\\xd0\\xb8\\xd0\\xb5')}\n",
      "['умение', 'знание']\n",
      "['знание']\n",
      "<Hit {'path': './texts/second_doc.txt', 'title': 'second_doc.txt'}>\n"
     ]
    }
   ],
   "source": [
    "qu = QueryParser(\"content\", ix.schema,  group=OrGroup)\n",
    "with ix.searcher(weighting=scoring.TF_IDF()) as searcher:\n",
    "    query = qu.parse(\"знания и умения\")\n",
    "    results = searcher.search(query, terms=True)\n",
    "    if results.has_matched_terms():\n",
    "        print(results.matched_terms())\n",
    "        for hit in results:\n",
    "            print([word[-1].decode('utf-8') for word in hit.matched_terms()])\n",
    "    print(results[0])"
   ]
  },
  {
   "cell_type": "code",
   "execution_count": 21,
   "metadata": {},
   "outputs": [
    {
     "data": {
      "text/plain": [
       "False"
      ]
     },
     "execution_count": 21,
     "metadata": {},
     "output_type": "execute_result"
    }
   ],
   "source": [
    "with ix.searcher(weighting=scoring.TF_IDF()) as searcher:\n",
    "    searcher_content = [word.decode('utf-8') for word in searcher.lexicon(\"content\")]"
   ]
  },
  {
   "cell_type": "code",
   "execution_count": 22,
   "metadata": {},
   "outputs": [
    {
     "data": {
      "text/plain": [
       "True"
      ]
     },
     "execution_count": 22,
     "metadata": {},
     "output_type": "execute_result"
    }
   ],
   "source": [
    "'таргетом' in searcher_content"
   ]
  },
  {
   "cell_type": "code",
   "execution_count": null,
   "metadata": {},
   "outputs": [],
   "source": []
  }
 ],
 "metadata": {
  "kernelspec": {
   "display_name": "Python 3",
   "language": "python",
   "name": "python3"
  },
  "language_info": {
   "codemirror_mode": {
    "name": "ipython",
    "version": 3
   },
   "file_extension": ".py",
   "mimetype": "text/x-python",
   "name": "python",
   "nbconvert_exporter": "python",
   "pygments_lexer": "ipython3",
   "version": "3.9.6"
  },
  "orig_nbformat": 4
 },
 "nbformat": 4,
 "nbformat_minor": 2
}
